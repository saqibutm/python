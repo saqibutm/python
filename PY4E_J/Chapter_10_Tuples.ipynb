{
 "cells": [
  {
   "cell_type": "code",
   "execution_count": 7,
   "metadata": {},
   "outputs": [
    {
     "name": "stdout",
     "output_type": "stream",
     "text": [
      "<class 'tuple'>\n",
      "('a', 'b', 'c', 'd', 'e')\n"
     ]
    }
   ],
   "source": [
    "# A tuple1 is a sequence of values much like a list. \n",
    "# The values stored in a tuple can be any type, and they are indexed by integers.\n",
    "# Syntactically, a tuple is a comma-separated list of values:\n",
    "\n",
    "\n",
    "t = 'a', 'b', 'c', 'd', 'e'\n",
    "print(type(t))\n",
    "print(t)"
   ]
  },
  {
   "cell_type": "code",
   "execution_count": 8,
   "metadata": {},
   "outputs": [
    {
     "name": "stdout",
     "output_type": "stream",
     "text": [
      "<class 'tuple'>\n",
      "(1, 2, 3, 4, 5, 6)\n"
     ]
    }
   ],
   "source": [
    "# Parentheses are optional\n",
    "t = (1,2,3,4,5, 6)\n",
    "print(type(t))\n",
    "print(t)"
   ]
  },
  {
   "cell_type": "code",
   "execution_count": 9,
   "metadata": {},
   "outputs": [
    {
     "name": "stdout",
     "output_type": "stream",
     "text": [
      "<class 'tuple'>\n",
      "<class 'str'>\n"
     ]
    }
   ],
   "source": [
    "# To create a tuple with a single element, you have to include the final comma:\n",
    "x = ('a',)\n",
    "print(type(x))\n",
    "\n",
    "y = ('a')\n",
    "print(type(y))"
   ]
  },
  {
   "cell_type": "code",
   "execution_count": 10,
   "metadata": {},
   "outputs": [
    {
     "name": "stdout",
     "output_type": "stream",
     "text": [
      "()\n"
     ]
    }
   ],
   "source": [
    "# Another way to construct a tuple is the built-in function tuple. \n",
    "# With no argument, it creates an empty tuple:\n",
    "\n",
    "t = tuple() # Its a constructor\n",
    "print(t)"
   ]
  },
  {
   "cell_type": "code",
   "execution_count": 11,
   "metadata": {},
   "outputs": [
    {
     "name": "stdout",
     "output_type": "stream",
     "text": [
      "('l', 'u', 'p', 'i', 'n', 's')\n"
     ]
    }
   ],
   "source": [
    "# If the argument is a sequence (string, list, or tuple), \n",
    "# the result of the call to tuple is a tuple with the elements of the sequence:\n",
    "\n",
    "t = tuple('lupins')\n",
    "print(t)"
   ]
  },
  {
   "cell_type": "code",
   "execution_count": 12,
   "metadata": {},
   "outputs": [
    {
     "name": "stdout",
     "output_type": "stream",
     "text": [
      "e\n"
     ]
    }
   ],
   "source": [
    "# Most list operators also work on tuples. The bracket operator indexes an element:\n",
    "t = ('a', 'b', 'c', 'd', 'e')\n",
    "print(t[4])"
   ]
  },
  {
   "cell_type": "code",
   "execution_count": 13,
   "metadata": {},
   "outputs": [
    {
     "name": "stdout",
     "output_type": "stream",
     "text": [
      "('b', 'c')\n"
     ]
    }
   ],
   "source": [
    "# The slice operator selects a range of elements.\n",
    "print(t[1:3])"
   ]
  },
  {
   "cell_type": "code",
   "execution_count": 14,
   "metadata": {},
   "outputs": [
    {
     "ename": "TypeError",
     "evalue": "'tuple' object does not support item assignment",
     "output_type": "error",
     "traceback": [
      "\u001b[0;31m---------------------------------------------------------------------------\u001b[0m",
      "\u001b[0;31mTypeError\u001b[0m                                 Traceback (most recent call last)",
      "\u001b[0;32m<ipython-input-14-1f907dd93c2c>\u001b[0m in \u001b[0;36m<module>\u001b[0;34m\u001b[0m\n\u001b[1;32m      2\u001b[0m \u001b[0;31m# Tuples are immutable\u001b[0m\u001b[0;34m\u001b[0m\u001b[0;34m\u001b[0m\u001b[0;34m\u001b[0m\u001b[0m\n\u001b[1;32m      3\u001b[0m \u001b[0;34m\u001b[0m\u001b[0m\n\u001b[0;32m----> 4\u001b[0;31m \u001b[0mt\u001b[0m\u001b[0;34m[\u001b[0m\u001b[0;36m0\u001b[0m\u001b[0;34m]\u001b[0m \u001b[0;34m=\u001b[0m \u001b[0;34m'A'\u001b[0m\u001b[0;34m\u001b[0m\u001b[0;34m\u001b[0m\u001b[0m\n\u001b[0m",
      "\u001b[0;31mTypeError\u001b[0m: 'tuple' object does not support item assignment"
     ]
    }
   ],
   "source": [
    "# But if you try to modify one of the elements of the tuple, you get an error.\n",
    "# Tuples are immutable\n",
    "\n",
    "t = ('a', 'b', 'c', 'd', 'e')\n",
    "t[0] = 'A'"
   ]
  },
  {
   "cell_type": "code",
   "execution_count": 18,
   "metadata": {},
   "outputs": [
    {
     "name": "stdout",
     "output_type": "stream",
     "text": [
      "[9, 8, 6]\n"
     ]
    },
    {
     "ename": "TypeError",
     "evalue": "'str' object does not support item assignment",
     "output_type": "error",
     "traceback": [
      "\u001b[0;31m---------------------------------------------------------------------------\u001b[0m",
      "\u001b[0;31mTypeError\u001b[0m                                 Traceback (most recent call last)",
      "\u001b[0;32m<ipython-input-18-c96725e758db>\u001b[0m in \u001b[0;36m<module>\u001b[0;34m\u001b[0m\n\u001b[1;32m      6\u001b[0m \u001b[0;34m\u001b[0m\u001b[0m\n\u001b[1;32m      7\u001b[0m \u001b[0my\u001b[0m \u001b[0;34m=\u001b[0m \u001b[0;34m'ABC'\u001b[0m\u001b[0;34m\u001b[0m\u001b[0;34m\u001b[0m\u001b[0m\n\u001b[0;32m----> 8\u001b[0;31m \u001b[0my\u001b[0m\u001b[0;34m[\u001b[0m\u001b[0;36m2\u001b[0m\u001b[0;34m]\u001b[0m \u001b[0;34m=\u001b[0m \u001b[0;34m'D'\u001b[0m\u001b[0;34m\u001b[0m\u001b[0;34m\u001b[0m\u001b[0m\n\u001b[0m\u001b[1;32m      9\u001b[0m \u001b[0;34m\u001b[0m\u001b[0m\n\u001b[1;32m     10\u001b[0m \u001b[0mz\u001b[0m \u001b[0;34m=\u001b[0m \u001b[0;34m(\u001b[0m\u001b[0;36m5\u001b[0m\u001b[0;34m,\u001b[0m \u001b[0;36m4\u001b[0m\u001b[0;34m,\u001b[0m \u001b[0;36m3\u001b[0m\u001b[0;34m)\u001b[0m\u001b[0;34m\u001b[0m\u001b[0;34m\u001b[0m\u001b[0m\n",
      "\u001b[0;31mTypeError\u001b[0m: 'str' object does not support item assignment"
     ]
    }
   ],
   "source": [
    "# Unlike a list, once you create a tuple, you cannot alter its contents - similar to a string\n",
    "\n",
    "x = [9, 8, 7]\n",
    "x[2] = 6\n",
    "print(x) \n",
    "\n",
    "y = 'ABC' \n",
    "y[2] = 'D' \n",
    "\n",
    "z = (5, 4, 3)\n",
    "z[2] = 0 "
   ]
  },
  {
   "cell_type": "code",
   "execution_count": 17,
   "metadata": {},
   "outputs": [
    {
     "name": "stdout",
     "output_type": "stream",
     "text": [
      "('a', 'b', 'c', 'd', 'e')\n",
      "('A', 'b', 'c', 'd', 'e')\n"
     ]
    }
   ],
   "source": [
    "# You can’t modify the elements of a tuple, but you can replace one tuple with another:\n",
    "\n",
    "t = ('a', 'b', 'c', 'd', 'e')\n",
    "print(t)\n",
    "\n",
    "t = ('A',) + t[1:]\n",
    "print(t)"
   ]
  },
  {
   "cell_type": "code",
   "execution_count": 21,
   "metadata": {},
   "outputs": [
    {
     "data": {
      "text/plain": [
       "['__add__',\n",
       " '__class__',\n",
       " '__contains__',\n",
       " '__delattr__',\n",
       " '__delitem__',\n",
       " '__dir__',\n",
       " '__doc__',\n",
       " '__eq__',\n",
       " '__format__',\n",
       " '__ge__',\n",
       " '__getattribute__',\n",
       " '__getitem__',\n",
       " '__gt__',\n",
       " '__hash__',\n",
       " '__iadd__',\n",
       " '__imul__',\n",
       " '__init__',\n",
       " '__init_subclass__',\n",
       " '__iter__',\n",
       " '__le__',\n",
       " '__len__',\n",
       " '__lt__',\n",
       " '__mul__',\n",
       " '__ne__',\n",
       " '__new__',\n",
       " '__reduce__',\n",
       " '__reduce_ex__',\n",
       " '__repr__',\n",
       " '__reversed__',\n",
       " '__rmul__',\n",
       " '__setattr__',\n",
       " '__setitem__',\n",
       " '__sizeof__',\n",
       " '__str__',\n",
       " '__subclasshook__',\n",
       " 'append',\n",
       " 'clear',\n",
       " 'copy',\n",
       " 'count',\n",
       " 'extend',\n",
       " 'index',\n",
       " 'insert',\n",
       " 'pop',\n",
       " 'remove',\n",
       " 'reverse',\n",
       " 'sort']"
      ]
     },
     "execution_count": 21,
     "metadata": {},
     "output_type": "execute_result"
    }
   ],
   "source": [
    "# Built in methods in list\n",
    "l = list()\n",
    "dir(l)"
   ]
  },
  {
   "cell_type": "code",
   "execution_count": 22,
   "metadata": {},
   "outputs": [
    {
     "data": {
      "text/plain": [
       "['__add__',\n",
       " '__class__',\n",
       " '__contains__',\n",
       " '__delattr__',\n",
       " '__dir__',\n",
       " '__doc__',\n",
       " '__eq__',\n",
       " '__format__',\n",
       " '__ge__',\n",
       " '__getattribute__',\n",
       " '__getitem__',\n",
       " '__getnewargs__',\n",
       " '__gt__',\n",
       " '__hash__',\n",
       " '__init__',\n",
       " '__init_subclass__',\n",
       " '__iter__',\n",
       " '__le__',\n",
       " '__len__',\n",
       " '__lt__',\n",
       " '__mul__',\n",
       " '__ne__',\n",
       " '__new__',\n",
       " '__reduce__',\n",
       " '__reduce_ex__',\n",
       " '__repr__',\n",
       " '__rmul__',\n",
       " '__setattr__',\n",
       " '__sizeof__',\n",
       " '__str__',\n",
       " '__subclasshook__',\n",
       " 'count',\n",
       " 'index']"
      ]
     },
     "execution_count": 22,
     "metadata": {},
     "output_type": "execute_result"
    }
   ],
   "source": [
    "# Built in methods in Tuples\n",
    "t = tuple()\n",
    "dir(t)"
   ]
  },
  {
   "cell_type": "code",
   "execution_count": null,
   "metadata": {},
   "outputs": [],
   "source": [
    "# Tuples are More Efficient\n",
    "# Since Python does not have to build tuple structures to be modifiable, \n",
    "# they are simpler and more efficient in terms of memory use and performance than lists\n",
    "# So in our program when we are making “temporary variables” we prefer tuples over lists"
   ]
  },
  {
   "cell_type": "code",
   "execution_count": 25,
   "metadata": {},
   "outputs": [
    {
     "name": "stdout",
     "output_type": "stream",
     "text": [
      "True\n",
      "True\n",
      "True\n",
      "True\n"
     ]
    }
   ],
   "source": [
    "# Comparing tuples\n",
    "# The comparison operators work with tuples and other sequences. \n",
    "# If the first item is equal, Python goes on to the next element, and so on, \n",
    "# until it finds elements that differ\n",
    "\n",
    "w = (0, 1, 2) < (0, 3, 4)\n",
    "print (w)\n",
    "\n",
    "x = (0, 1, 2000000) < (0, 3, 4)\n",
    "print(x)\n",
    "\n",
    "y = ( 'Jones', 'Sally' ) < ('Jones', 'Sam')\n",
    "print(y)\n",
    "\n",
    "z = ( 'Jones', 'Sally') > ('Adams', 'Sam')\n",
    "print(z)"
   ]
  },
  {
   "cell_type": "code",
   "execution_count": 29,
   "metadata": {},
   "outputs": [
    {
     "name": "stdout",
     "output_type": "stream",
     "text": [
      "['but', 'soft', 'what', 'light', 'in', 'yonder', 'window', 'breaks']\n",
      "[(3, 'but'), (4, 'soft'), (4, 'what'), (5, 'light'), (2, 'in'), (6, 'yonder'), (6, 'window'), (6, 'breaks')]\n",
      "[(6, 'yonder'), (6, 'window'), (6, 'breaks'), (5, 'light'), (4, 'what'), (4, 'soft'), (3, 'but'), (2, 'in')]\n",
      "['yonder', 'window', 'breaks', 'light', 'what', 'soft', 'but', 'in']\n"
     ]
    }
   ],
   "source": [
    "# Suppose you have a list of words and you want to sort them from longest to shortest:\n",
    "\n",
    "txt = 'but soft what light in yonder window breaks' \n",
    "\n",
    "words = txt.split()\n",
    "print(words)\n",
    "\n",
    "t = list()\n",
    "\n",
    "for word in words:\n",
    "    t.append((len(word), word)) # Created a list of tuples\n",
    "\n",
    "print(t)\n",
    "\n",
    "t.sort(reverse=True) \n",
    "\n",
    "# The four-character words are sorted in reverse alphabetical order, \n",
    "# so “what” appears before “soft” in the following list.\n",
    "\n",
    "print(t)\n",
    "\n",
    "res = list()\n",
    "\n",
    "for length, word in t:\n",
    "    res.append(word) \n",
    "\n",
    "print(res)"
   ]
  },
  {
   "cell_type": "code",
   "execution_count": 31,
   "metadata": {},
   "outputs": [
    {
     "name": "stdout",
     "output_type": "stream",
     "text": [
      "have\n",
      "fun\n"
     ]
    }
   ],
   "source": [
    "# Tuple assignment\n",
    "# One of the unique syntactic features of the Python language is the ability to have a tuple on the left side of an assignment statement. \n",
    "# This allows you to assign more than one variable at a time when the left side is a sequence.\n",
    "\n",
    "m = [ 'have', 'fun' ] \n",
    "x, y = m # Parentheses are optional\n",
    "\n",
    "print(x)\n",
    "print(y)\n"
   ]
  },
  {
   "cell_type": "code",
   "execution_count": 35,
   "metadata": {},
   "outputs": [
    {
     "name": "stdout",
     "output_type": "stream",
     "text": [
      "1 2\n",
      "2 1\n"
     ]
    }
   ],
   "source": [
    "# A particularly clever application of tuple assignment allows us to swap the values of two variables\n",
    "# in a single statement:\n",
    "\n",
    "a,b = 1,2\n",
    "print(a,b)\n",
    "\n",
    "a, b = b, a\n",
    "print(a,b)"
   ]
  },
  {
   "cell_type": "code",
   "execution_count": 36,
   "metadata": {},
   "outputs": [
    {
     "ename": "ValueError",
     "evalue": "too many values to unpack (expected 2)",
     "output_type": "error",
     "traceback": [
      "\u001b[0;31m---------------------------------------------------------------------------\u001b[0m",
      "\u001b[0;31mValueError\u001b[0m                                Traceback (most recent call last)",
      "\u001b[0;32m<ipython-input-36-1b6eee1cbe38>\u001b[0m in \u001b[0;36m<module>\u001b[0;34m\u001b[0m\n\u001b[1;32m      1\u001b[0m \u001b[0;31m# The number of variables on the left and the number of values on the right must be the same:\u001b[0m\u001b[0;34m\u001b[0m\u001b[0;34m\u001b[0m\u001b[0;34m\u001b[0m\u001b[0m\n\u001b[0;32m----> 2\u001b[0;31m \u001b[0ma\u001b[0m\u001b[0;34m,\u001b[0m \u001b[0mb\u001b[0m \u001b[0;34m=\u001b[0m \u001b[0;36m1\u001b[0m\u001b[0;34m,\u001b[0m \u001b[0;36m2\u001b[0m\u001b[0;34m,\u001b[0m \u001b[0;36m3\u001b[0m\u001b[0;34m\u001b[0m\u001b[0;34m\u001b[0m\u001b[0m\n\u001b[0m",
      "\u001b[0;31mValueError\u001b[0m: too many values to unpack (expected 2)"
     ]
    }
   ],
   "source": [
    "# The number of variables on the left and the number of values on the right must be the same:\n",
    "a, b = 1, 2, 3\n"
   ]
  },
  {
   "cell_type": "code",
   "execution_count": 37,
   "metadata": {},
   "outputs": [
    {
     "name": "stdout",
     "output_type": "stream",
     "text": [
      "monty\n",
      "python.org\n"
     ]
    }
   ],
   "source": [
    "# The right side can be any kind of sequence (string, list, or tuple). \n",
    "# For example, to split an email address into a user name and a domain, you could write:\n",
    "\n",
    "addr = 'monty@python.org'\n",
    "uname, domain = addr.split('@')\n",
    "\n",
    "# The return value from split is a list with two elements; the first element is assigned to uname, the second to domain.\n",
    "print(uname)\n",
    "print(domain)"
   ]
  },
  {
   "cell_type": "code",
   "execution_count": 43,
   "metadata": {},
   "outputs": [
    {
     "name": "stdout",
     "output_type": "stream",
     "text": [
      "[('a', 10), ('b', 1), ('c', 22)]\n",
      "[('a', 10), ('b', 1), ('c', 22)]\n"
     ]
    }
   ],
   "source": [
    "# Tuples and Dictionaries\n",
    "# Dictionaries have a method called items that returns a list of tuples, where each tuple is a key-value pair:\n",
    "d = {'a':10, 'b':1, 'c':22} \n",
    "t = list(d.items())\n",
    "\n",
    "t.sort()\n",
    "print(t)\n"
   ]
  },
  {
   "cell_type": "code",
   "execution_count": 45,
   "metadata": {},
   "outputs": [
    {
     "name": "stdout",
     "output_type": "stream",
     "text": [
      "[('a', 10), ('b', 1), ('c', 22)]\n"
     ]
    }
   ],
   "source": [
    "d = {'a':10, 'b':1, 'c':22} \n",
    "t = sorted(d.items())\n",
    "print(t)"
   ]
  },
  {
   "cell_type": "code",
   "execution_count": 47,
   "metadata": {},
   "outputs": [
    {
     "name": "stdout",
     "output_type": "stream",
     "text": [
      "{'csev': 2, 'cwen': 4}\n",
      "csev 2\n",
      "cwen 4\n"
     ]
    }
   ],
   "source": [
    "d = dict()\n",
    "d['csev'] = 2\n",
    "d['cwen'] = 4\n",
    "\n",
    "print(d)\n",
    "\n",
    "for (k,v) in d.items():\n",
    "    print(k, v)"
   ]
  },
  {
   "cell_type": "code",
   "execution_count": 48,
   "metadata": {},
   "outputs": [
    {
     "name": "stdout",
     "output_type": "stream",
     "text": [
      "[(10, 'a'), (1, 'b'), (22, 'c')]\n",
      "[(22, 'c'), (10, 'a'), (1, 'b')]\n"
     ]
    }
   ],
   "source": [
    "# Sort by Values Instead of Key\n",
    "\n",
    "c = {'a':10, 'b':1, 'c':22}\n",
    "tmp = list()\n",
    "for k, v in c.items() :\n",
    "    tmp.append((v, k))\n",
    "\n",
    "print(tmp)\n",
    "tmp = sorted(tmp, reverse=True) \n",
    "print(tmp)"
   ]
  },
  {
   "cell_type": "code",
   "execution_count": 60,
   "metadata": {},
   "outputs": [
    {
     "name": "stdout",
     "output_type": "stream",
     "text": [
      "{'But': 1, 'soft': 1, 'what': 1, 'light': 1, 'through': 1, 'yonder': 1, 'window': 1, 'breaks': 1, 'It': 1, 'is': 3, 'the': 3, 'east': 1, 'and': 3, 'Juliet': 1, 'sun': 2, 'Arise': 1, 'fair': 1, 'kill': 1, 'envious': 1, 'moon': 1, 'Who': 1, 'already': 1, 'sick': 1, 'pale': 1, 'with': 1, 'grief': 1}\n",
      "the 3\n",
      "is 3\n",
      "and 3\n",
      "sun 2\n",
      "yonder 1\n",
      "with 1\n",
      "window 1\n",
      "what 1\n",
      "through 1\n",
      "soft 1\n"
     ]
    }
   ],
   "source": [
    "# Most common words\n",
    "\n",
    "fhand = open('romeo.txt')\n",
    "\n",
    "counts = {} # Empty disctionary\n",
    "\n",
    "for line in fhand:\n",
    "    words = line.split()\n",
    "    for word in words:\n",
    "        counts[word] = counts.get(word,0) + 1\n",
    "print(counts)\n",
    "    \n",
    "lst = list()\n",
    "\n",
    "for key,val in counts.items():\n",
    "    lst.append((val,key))\n",
    "\n",
    "lst = sorted(lst, reverse=True)\n",
    "\n",
    "for val,key in lst[:10]:\n",
    "    print(key,val)"
   ]
  },
  {
   "cell_type": "code",
   "execution_count": null,
   "metadata": {},
   "outputs": [],
   "source": [
    "# Even Shorter Version\n",
    "# List comprehension creates a dynamic list. \n",
    "# In this case, we make a list of reversed tuples and then sort it.\n",
    "c = {'a':10, 'b':1, 'c':22}\n",
    "print( sorted( [ (v,k) for k,v in c.items() ] ) ) "
   ]
  }
 ],
 "metadata": {
  "kernelspec": {
   "display_name": "Python 3",
   "language": "python",
   "name": "python3"
  },
  "language_info": {
   "codemirror_mode": {
    "name": "ipython",
    "version": 3
   },
   "file_extension": ".py",
   "mimetype": "text/x-python",
   "name": "python",
   "nbconvert_exporter": "python",
   "pygments_lexer": "ipython3",
   "version": "3.7.4"
  }
 },
 "nbformat": 4,
 "nbformat_minor": 2
}
