{
 "cells": [
  {
   "cell_type": "code",
   "execution_count": null,
   "metadata": {},
   "outputs": [],
   "source": [
    "# Dictionaries are collections with key (index) value pair. \n",
    "# Same as list but have different indexing mechanism\n",
    "# It has a user defined indexing mechanism.\n",
    "\n",
    "purse = dict() # Constructor to create an empy dictionary\n",
    "\n",
    "print(purse)\n",
    "purse['money'] = 12 # Perforaming two tasks\n",
    "purse['candy'] = 3\n",
    "purse['tissues'] = 75\n",
    "purse['1'] = 30\n",
    "\n",
    "print(purse) # Printing all key-value pairs of a dictionay\n",
    "print(purse['money']) # Printing using key\n",
    "\n",
    "purse['candy'] = purse['candy'] + 2 # Adding 2 to exisitng value of candy\n",
    "\n",
    "purse['Pen'] = 5 # adding a new key-value pair to purse (Very important to understand this concept)\n",
    "\n",
    "print(purse)"
   ]
  },
  {
   "cell_type": "code",
   "execution_count": null,
   "metadata": {},
   "outputs": [],
   "source": [
    "# Comparing Lists and Dictionaries \n",
    "\n",
    "a = list() # Empty list. \n",
    "\n",
    "a.append(5) \n",
    "a.append(6)\n",
    "\n",
    "print(a)\n",
    "\n",
    "a[0] = a[0] + 2 # Updating the value at index 0\n",
    "\n",
    "print(a)"
   ]
  },
  {
   "cell_type": "code",
   "execution_count": null,
   "metadata": {},
   "outputs": [],
   "source": [
    "# Dictionary Lierals use a curly braces + key value pair\n",
    "\n",
    "jjj = { 'chuck' : 1 , 'fred' : 42, 'jan': 100}\n",
    "\n",
    "print(jjj)\n",
    "\n",
    "ooo = { } # Create an empty dictionary\n",
    "print(ooo)\n"
   ]
  },
  {
   "cell_type": "code",
   "execution_count": null,
   "metadata": {},
   "outputs": [],
   "source": [
    "# Most common use of dictionaries is counting how often we “see” something\n",
    "\n",
    "ccc = dict()\n",
    "ccc['csev'] = 1\n",
    "ccc['cwen'] = 1\n",
    "print(ccc)\n",
    "\n",
    "ccc['cwen'] = ccc['cwen'] + 1\n",
    "\n",
    "print(ccc)\n"
   ]
  },
  {
   "cell_type": "code",
   "execution_count": null,
   "metadata": {},
   "outputs": [],
   "source": [
    "word = 'brontosaurus' \n",
    "\n",
    "d = dict()\n",
    "\n",
    "for c in word:\n",
    "    if c not in d: \n",
    "        d[c] = 1  # Cretea a key + value assign\n",
    "    else:\n",
    "        d[c] = d[c] + 1 # Make an incremanet only in value\n",
    "print(d)"
   ]
  },
  {
   "cell_type": "code",
   "execution_count": null,
   "metadata": {},
   "outputs": [],
   "source": [
    "# Dictionary Tracebacks\n",
    "# It is an error to reference a key which is not in the dictionary.\n",
    "# We can use the in operator to see if a key is in the dictionary.\n",
    "\n",
    "ccc = dict()\n",
    "#print(ccc['csev'])\n",
    "\n",
    "'csev' in ccc\n",
    "       "
   ]
  },
  {
   "cell_type": "code",
   "execution_count": null,
   "metadata": {},
   "outputs": [],
   "source": [
    "# When We See a New Name\n",
    "# When we encounter a new name, we need to add a new entry in the dictionary \n",
    "# and if this the second or later time we have seen the name, \n",
    "# we simply add one to the count in the dictionary under that name\n",
    "\n",
    "names = ['csev', 'cwen', 'csev', 'zqian', 'cwen'] \n",
    "\n",
    "counts = dict()\n",
    "\n",
    "for name in names :\n",
    "    if name not in counts: \n",
    "        counts[name] = 1 # Adding a key-value pair in the dictionary\n",
    "    else :\n",
    "        counts[name] = counts[name] + 1 # Only making increamnet in the value of exisitng key\n",
    "print(counts)"
   ]
  },
  {
   "cell_type": "code",
   "execution_count": null,
   "metadata": {},
   "outputs": [],
   "source": [
    "# Built in methods in Dictionaries\n",
    "names = dict()\n",
    "dir(names)"
   ]
  },
  {
   "cell_type": "code",
   "execution_count": 15,
   "metadata": {},
   "outputs": [
    {
     "name": "stdout",
     "output_type": "stream",
     "text": [
      "dict_keys(['chuck', 'annie', 'jan'])\n"
     ]
    }
   ],
   "source": [
    "# Returns a view object conataing dictionary keys in a list \n",
    "counts = { 'chuck' : 1 , 'annie' : 42, 'jan': 100} \n",
    "lst = counts.keys() \n",
    "print(lst)\n"
   ]
  },
  {
   "cell_type": "code",
   "execution_count": 16,
   "metadata": {},
   "outputs": [
    {
     "name": "stdout",
     "output_type": "stream",
     "text": [
      "dict_values([1, 42, 100])\n"
     ]
    }
   ],
   "source": [
    "# Returns a view object conatiang a list of dictionary's values \n",
    "counts = { 'chuck' : 1 , 'annie' : 42, 'jan': 100} \n",
    "lst = counts.values() \n",
    "print(lst)"
   ]
  },
  {
   "cell_type": "code",
   "execution_count": 19,
   "metadata": {},
   "outputs": [
    {
     "name": "stdout",
     "output_type": "stream",
     "text": [
      "100\n",
      "-1\n",
      "{'chuck': 1, 'annie': 42, 'jan': 100}\n"
     ]
    }
   ],
   "source": [
    "# The get method returns the value of the specified key\n",
    "# if the key is not there, it returns the default value without any traceback. \n",
    "\n",
    "counts = { 'chuck' : 1 , 'annie' : 42, 'jan': 100}\n",
    "\n",
    "x = counts.get('jan', 0)\n",
    "print(x)\n",
    "\n",
    "y = counts.get('tim', -1)\n",
    "\n",
    "print(y)\n",
    "\n",
    "print(counts)"
   ]
  },
  {
   "cell_type": "code",
   "execution_count": null,
   "metadata": {},
   "outputs": [],
   "source": [
    "names = ['car', 'bus', 'car', 'Truck', 'van']\n",
    "\n",
    "counts = dict() \n",
    "\n",
    "for name in names :\n",
    "    counts[name] = counts.get(name, 0) + 1 \n",
    "    \n",
    "print(counts)"
   ]
  },
  {
   "cell_type": "code",
   "execution_count": 21,
   "metadata": {},
   "outputs": [
    {
     "name": "stdout",
     "output_type": "stream",
     "text": [
      "1 chuck\n",
      "42 annie\n",
      "100 jan\n"
     ]
    }
   ],
   "source": [
    "counts = { 'chuck' : 1 , 'annie' : 42, 'jan': 100} \n",
    "for key in counts:\n",
    "    print(counts[key],key)"
   ]
  },
  {
   "cell_type": "code",
   "execution_count": 23,
   "metadata": {},
   "outputs": [
    {
     "name": "stdout",
     "output_type": "stream",
     "text": [
      "chuck 1\n"
     ]
    }
   ],
   "source": [
    "counts = {'chuck' : 1 , 'annie' : 42, 'jan': 100} # Its a Dictionary\n",
    "for key in counts:\n",
    "    if counts[key] < 10 : \n",
    "        print(key, counts[key])"
   ]
  },
  {
   "cell_type": "code",
   "execution_count": 25,
   "metadata": {},
   "outputs": [
    {
     "name": "stdout",
     "output_type": "stream",
     "text": [
      "['chuck', 'fred', 'jan']\n",
      "dict_keys(['chuck', 'fred', 'jan'])\n"
     ]
    }
   ],
   "source": [
    "# List function on a Dictionary - Retuns a list of keys\n",
    "jjj = { 'chuck' : 1 , 'fred' : 42, 'jan': 100}\n",
    "lst = list(jjj)\n",
    "print(lst)\n",
    "lst = jjj.keys()\n",
    "print(lst)"
   ]
  },
  {
   "cell_type": "code",
   "execution_count": 26,
   "metadata": {},
   "outputs": [
    {
     "name": "stdout",
     "output_type": "stream",
     "text": [
      "dict_items([('chuck', 1), ('annie', 42), ('jan', 100)])\n"
     ]
    }
   ],
   "source": [
    "# Returns a list containing a tuple for each key value pair\n",
    "counts = { 'chuck' : 1 , 'annie' : 42, 'jan': 100} \n",
    "lst = counts.items() \n",
    "print(lst)"
   ]
  },
  {
   "cell_type": "code",
   "execution_count": 27,
   "metadata": {},
   "outputs": [
    {
     "name": "stdout",
     "output_type": "stream",
     "text": [
      "Enter a line of text: Hello World\n",
      "Words: ['Hello', 'World']\n"
     ]
    }
   ],
   "source": [
    "# Counting Words in Text\n",
    "\n",
    "line = input('Enter a line of text: ') \n",
    "counts = dict()\n",
    "words = line.split() # Split method convert strings into list of words\n",
    "print('Words:', words) \n"
   ]
  },
  {
   "cell_type": "code",
   "execution_count": 28,
   "metadata": {},
   "outputs": [
    {
     "name": "stdout",
     "output_type": "stream",
     "text": [
      "Enter a line of text:This is a python course.\n",
      "Words: ['This', 'is', 'a', 'python', 'course.']\n",
      "Counting...\n",
      "Counts {'This': 1, 'is': 1, 'a': 1, 'python': 1, 'course.': 1}\n"
     ]
    }
   ],
   "source": [
    "counts = dict()\n",
    "\n",
    "line = input('Enter a line of text:') \n",
    "words = line.split()  \n",
    "print('Words:', words) \n",
    "\n",
    "print('Counting...')\n",
    "\n",
    "for word in words:\n",
    "    counts[word] = counts.get(word,0) + 1\n",
    "    \n",
    "print('Counts', counts)"
   ]
  },
  {
   "cell_type": "code",
   "execution_count": 30,
   "metadata": {},
   "outputs": [
    {
     "name": "stdout",
     "output_type": "stream",
     "text": [
      "Enter a file: clown.txt\n",
      "the clown ran after the car and the car ran into the tent and the tent fell down on the clown and the car\n",
      "['the', 'clown', 'ran', 'after', 'the', 'car', 'and', 'the', 'car', 'ran', 'into', 'the', 'tent', 'and', 'the', 'tent', 'fell', 'down', 'on', 'the', 'clown', 'and', 'the', 'car']\n",
      "{'the': 7, 'clown': 2, 'ran': 2, 'after': 1, 'car': 3, 'and': 3, 'into': 1, 'tent': 2, 'fell': 1, 'down': 1, 'on': 1}\n"
     ]
    }
   ],
   "source": [
    "fname = input('Enter a file: ')\n",
    "fhandle = open(fname)\n",
    "\n",
    "counts = dict()\n",
    "\n",
    "for line in fhandle:\n",
    "    line = line.rstrip()\n",
    "    print(line)\n",
    "    words = line.split()\n",
    "    print(words)\n",
    "    for word in words:\n",
    "        counts[word] = counts.get(word,0) + 1\n",
    "\n",
    "print(counts)\n",
    "    "
   ]
  },
  {
   "cell_type": "code",
   "execution_count": 31,
   "metadata": {},
   "outputs": [
    {
     "name": "stdout",
     "output_type": "stream",
     "text": [
      "Enter a file: clown.txt\n",
      "{'the': 7, 'clown': 2, 'ran': 2, 'after': 1, 'car': 3, 'and': 3, 'into': 1, 'tent': 2, 'fell': 1, 'down': 1, 'on': 1}\n",
      "dict_keys(['the', 'clown', 'ran', 'after', 'car', 'and', 'into', 'tent', 'fell', 'down', 'on'])\n",
      "['after', 'and', 'car', 'clown', 'down', 'fell', 'into', 'on', 'ran', 'tent', 'the']\n"
     ]
    }
   ],
   "source": [
    "fname = input('Enter a file: ')\n",
    "fhandle = open(fname)\n",
    "\n",
    "counts = dict()\n",
    "\n",
    "for line in fhandle:\n",
    "    line = line.rstrip()\n",
    "    words = line.split()\n",
    "    for word in words:\n",
    "        counts[word] = counts.get(word,0) + 1\n",
    "\n",
    "print(counts)\n",
    "\n",
    "# The keys() method returns a view object. The view object contains the keys of the dictionary, as a list.\n",
    "index = counts.keys()\n",
    "print(index) # Veiw object\n",
    "\n",
    "index = list(index) # Converting form view object to list\n",
    "index.sort()\n",
    "print (index)\n"
   ]
  },
  {
   "cell_type": "code",
   "execution_count": 32,
   "metadata": {},
   "outputs": [
    {
     "name": "stdout",
     "output_type": "stream",
     "text": [
      "Enter a file: clown.txt\n",
      "{'the': 7, 'clown': 2, 'ran': 2, 'after': 1, 'car': 3, 'and': 3, 'into': 1, 'tent': 2, 'fell': 1, 'down': 1, 'on': 1}\n",
      "['the', 'clown', 'ran', 'after', 'car', 'and', 'into', 'tent', 'fell', 'down', 'on']\n",
      "after 1\n",
      "and 3\n",
      "car 3\n",
      "clown 2\n",
      "down 1\n",
      "fell 1\n",
      "into 1\n",
      "on 1\n",
      "ran 2\n",
      "tent 2\n",
      "the 7\n"
     ]
    }
   ],
   "source": [
    "fname = input('Enter a file: ')\n",
    "fhandle = open(fname)\n",
    "\n",
    "counts = dict()\n",
    "\n",
    "for line in fhandle:\n",
    "    line = line.rstrip()\n",
    "    words = line.split()\n",
    "    for word in words:\n",
    "        counts[word] = counts.get(word,0) + 1\n",
    "\n",
    "print(counts)\n",
    "\n",
    "lst = list(counts)\n",
    "print(lst) \n",
    "lst.sort()\n",
    "\n",
    "for x in lst:\n",
    "    print(x , counts[x])\n",
    "\n"
   ]
  },
  {
   "cell_type": "code",
   "execution_count": 33,
   "metadata": {},
   "outputs": [
    {
     "name": "stdout",
     "output_type": "stream",
     "text": [
      "Enter file:clown.txt\n",
      "{'the': 7, 'clown': 2, 'ran': 2, 'after': 1, 'car': 3, 'and': 3, 'into': 1, 'tent': 2, 'fell': 1, 'down': 1, 'on': 1}\n",
      "the 7\n"
     ]
    }
   ],
   "source": [
    "name = input('Enter file:')\n",
    "handle = open(name)\n",
    "\n",
    "counts = dict()\n",
    "for line in handle:\n",
    "    line = line.rstrip()\n",
    "    words = line.split()\n",
    "    for word in words:\n",
    "        counts[word] = counts.get(word,0) + 1\n",
    "\n",
    "print(counts)\n",
    "\n",
    "bigcount = None\n",
    "bigword = None\n",
    "for word,count in counts.items():\n",
    "    if bigcount is None or count > bigcount:\n",
    "        bigcount = count\n",
    "        bigword = word\n",
    "\n",
    "print(bigword, bigcount)"
   ]
  },
  {
   "cell_type": "code",
   "execution_count": null,
   "metadata": {},
   "outputs": [],
   "source": []
  },
  {
   "cell_type": "code",
   "execution_count": 34,
   "metadata": {},
   "outputs": [
    {
     "name": "stdout",
     "output_type": "stream",
     "text": [
      "The string before translating is : weeksyourweeks\n",
      "The string after translating is : geeksforgeeks\n"
     ]
    }
   ],
   "source": [
    "# Python3 code to demostrate  \n",
    "# translations using  \n",
    "# maketrans() and translate() \n",
    "  \n",
    "# specify to translate chars \n",
    "str1 = \"wy\"\n",
    "  \n",
    "# specify to replace with \n",
    "str2 = \"gf\"\n",
    "  \n",
    "# delete chars \n",
    "str3 = \"u\"\n",
    "  \n",
    "# target string  \n",
    "trg = \"weeksyourweeks\"\n",
    "  \n",
    "# using maketrans() to  \n",
    "# construct translate \n",
    "# table \n",
    "table = trg.maketrans(str1, str2, str3) \n",
    "  \n",
    "# Printing original string  \n",
    "print (\"The string before translating is : \", end =\"\") \n",
    "print (trg) \n",
    "  \n",
    "# using translate() to make translations. \n",
    "print (\"The string after translating is : \", end =\"\") \n",
    "print (trg.translate(table)) \n"
   ]
  },
  {
   "cell_type": "code",
   "execution_count": 36,
   "metadata": {},
   "outputs": [
    {
     "data": {
      "text/plain": [
       "'!\"#$%&\\'()*+,-./:;<=>?@[\\\\]^_`{|}~'"
      ]
     },
     "execution_count": 36,
     "metadata": {},
     "output_type": "execute_result"
    }
   ],
   "source": [
    "import string\n",
    "string.punctuation"
   ]
  },
  {
   "cell_type": "code",
   "execution_count": 38,
   "metadata": {},
   "outputs": [
    {
     "name": "stdout",
     "output_type": "stream",
     "text": [
      "Enter the file name: romeo-full.txt\n",
      "{'romeo': 41, 'and': 42, 'juliet': 32, 'act': 1, '2': 2, 'scene': 2, 'ii': 1, 'capulet': 2, 'orchard': 2, 'enter': 1, 'he': 5, 'jests': 1, 'at': 9, 'scars': 1, 'that': 30, 'never': 2, 'felt': 1, 'a': 24, 'wound': 1, 'appears': 1, 'above': 6, 'window': 2, 'but': 18, 'soft': 1, 'what': 13, 'light': 5, 'through': 2, 'yonder': 2, 'breaks': 1, 'it': 22, 'is': 21, 'the': 34, 'east': 1, 'sun': 2, 'arise': 1, 'fair': 4, 'kill': 2, 'envious': 2, 'moon': 4, 'who': 5, 'already': 1, 'sick': 2, 'pale': 1, 'with': 8, 'grief': 2, 'thou': 32, 'her': 14, 'maid': 2, 'art': 7, 'far': 2, 'more': 9, 'than': 6, 'she': 9, 'be': 14, 'not': 18, 'since': 1, 'vestal': 1, 'livery': 1, 'green': 1, 'none': 1, 'fools': 1, 'do': 7, 'wear': 1, 'cast': 1, 'off': 1, 'my': 29, 'lady': 2, 'o': 11, 'love': 27, 'knew': 1, 'were': 10, 'speaks': 3, 'yet': 9, 'says': 1, 'nothing': 1, 'of': 20, 'eye': 2, 'discourses': 1, 'i': 61, 'will': 8, 'answer': 1, 'am': 7, 'too': 8, 'bold': 1, 'tis': 4, 'to': 34, 'me': 18, 'two': 1, 'fairest': 1, 'stars': 2, 'in': 13, 'all': 6, 'heaven': 3, 'having': 1, 'some': 3, 'business': 1, 'entreat': 1, 'eyes': 6, 'twinkle': 1, 'their': 6, 'spheres': 1, 'till': 4, 'they': 5, 'return': 1, 'if': 12, 'there': 3, 'head': 2, 'brightness': 1, 'cheek': 4, 'would': 16, 'shame': 1, 'those': 2, 'as': 12, 'daylight': 1, 'doth': 2, 'lamp': 1, 'airy': 2, 'region': 1, 'stream': 1, 'so': 10, 'bright': 2, 'birds': 1, 'sing': 1, 'think': 2, 'night': 17, 'see': 2, 'how': 5, 'leans': 1, 'upon': 5, 'hand': 4, 'glove': 1, 'might': 1, 'touch': 1, 'ay': 2, 'speak': 4, 'again': 6, 'angel': 1, 'for': 12, 'glorious': 1, 'this': 9, 'being': 2, 'oer': 1, 'winged': 1, 'messenger': 1, 'unto': 1, 'whiteupturned': 1, 'wondering': 1, 'mortals': 1, 'fall': 1, 'back': 4, 'gaze': 1, 'on': 4, 'him': 2, 'when': 2, 'bestrides': 1, 'lazypacing': 1, 'clouds': 1, 'sails': 1, 'bosom': 1, 'air': 1, 'wherefore': 2, 'deny': 2, 'thy': 20, 'father': 2, 'refuse': 1, 'name': 11, 'or': 4, 'wilt': 6, 'sworn': 1, 'ill': 8, 'no': 6, 'longer': 1, 'aside': 1, 'shall': 6, 'hear': 2, 'enemy': 2, 'thyself': 1, 'though': 1, 'montague': 5, 'nor': 5, 'foot': 2, 'arm': 1, 'face': 2, 'any': 4, 'other': 4, 'part': 2, 'belonging': 1, 'man': 2, 'which': 7, 'we': 2, 'call': 3, 'rose': 1, 'by': 14, 'smell': 1, 'sweet': 8, 'calld': 1, 'retain': 1, 'dear': 7, 'perfection': 1, 'owes': 1, 'without': 1, 'title': 1, 'doff': 1, 'thee': 24, 'take': 3, 'myself': 2, 'word': 4, 'new': 1, 'baptized': 1, 'henceforth': 1, 'thus': 1, 'bescreend': 1, 'stumblest': 1, 'counsel': 2, 'know': 3, 'tell': 3, 'saint': 2, 'hateful': 1, 'because': 1, 'an': 2, 'had': 1, 'written': 1, 'tear': 2, 'ears': 2, 'have': 13, 'drunk': 1, 'hundred': 1, 'words': 2, 'tongue': 2, 'utterance': 1, 'sound': 2, 'neither': 1, 'either': 1, 'dislike': 1, 'camest': 1, 'hither': 1, 'walls': 2, 'are': 3, 'high': 1, 'hard': 1, 'climb': 1, 'place': 2, 'death': 2, 'considering': 1, 'kinsmen': 2, 'find': 2, 'here': 4, 'wings': 1, 'did': 3, 'oerperch': 1, 'these': 2, 'stony': 1, 'limits': 1, 'cannot': 1, 'hold': 1, 'out': 2, 'can': 2, 'dares': 1, 'attempt': 1, 'therefore': 3, 'let': 3, 'murder': 1, 'alack': 1, 'lies': 2, 'peril': 1, 'thine': 2, 'twenty': 2, 'swords': 1, 'look': 1, 'proof': 1, 'against': 1, 'enmity': 1, 'world': 3, 'saw': 1, 'cloak': 1, 'hide': 1, 'from': 4, 'sight': 1, 'them': 1, 'life': 1, 'better': 1, 'ended': 1, 'hate': 1, 'prorogued': 1, 'wanting': 1, 'whose': 1, 'direction': 1, 'foundt': 1, 'first': 1, 'prompt': 1, 'inquire': 1, 'lent': 2, 'pilot': 1, 'wert': 1, 'vast': 1, 'shore': 1, 'washd': 1, 'farthest': 1, 'sea': 2, 'adventure': 1, 'such': 2, 'merchandise': 1, 'knowt': 1, 'mask': 1, 'else': 3, 'maiden': 1, 'blush': 1, 'bepaint': 1, 'hast': 1, 'heard': 1, 'tonight': 3, 'fain': 3, 'dwell': 2, 'form': 1, 'spoke': 1, 'farewell': 1, 'compliment': 1, 'dost': 2, 'say': 5, 'sweart': 1, 'mayst': 2, 'prove': 4, 'false': 1, 'lovers': 2, 'perjuries': 1, 'then': 2, 'jove': 1, 'laughs': 1, 'gentle': 1, 'pronounce': 1, 'faithfully': 1, 'thinkt': 1, 'quickly': 1, 'won': 1, 'frown': 1, 'perverse': 1, 'nay': 1, 'woo': 1, 'truth': 1, 'fond': 1, 'havior': 1, 'trust': 1, 'gentleman': 1, 'true': 3, 'cunning': 1, 'strange': 2, 'should': 2, 'been': 1, 'must': 1, 'confess': 1, 'overheardt': 1, 'ere': 2, 'was': 1, 'ware': 1, 'passion': 1, 'pardon': 1, 'impute': 1, 'yielding': 1, 'dark': 1, 'hath': 1, 'discovered': 1, 'blessed': 3, 'swear': 6, 'tips': 1, 'silver': 1, 'fruittree': 1, 'tops': 1, 'inconstant': 1, 'monthly': 1, 'changes': 1, 'circled': 1, 'orb': 1, 'lest': 1, 'likewise': 1, 'variable': 1, 'gracious': 1, 'self': 1, 'god': 1, 'idolatry': 1, 'believe': 1, 'heart': 2, 'well': 2, 'although': 1, 'joy': 2, 'contract': 1, 'rash': 1, 'unadvised': 1, 'sudden': 1, 'like': 3, 'lightning': 1, 'cease': 2, 'one': 2, 'lightens': 1, 'good': 9, 'bud': 1, 'summer': 1, 'ripening': 1, 'breath': 1, 'may': 2, 'beauteous': 1, 'flower': 1, 'next': 1, 'meet': 1, 'repose': 1, 'rest': 2, 'come': 5, 'within': 5, 'breast': 2, 'leave': 2, 'unsatisfied': 1, 'satisfaction': 1, 'canst': 1, 'exchange': 1, 'faithful': 1, 'vow': 1, 'mine': 3, 'gave': 1, 'before': 1, 'didst': 1, 'request': 1, 'give': 3, 'wouldst': 1, 'withdraw': 1, 'purpose': 2, 'frank': 1, 'wish': 1, 'thing': 1, 'bounty': 1, 'boundless': 1, 'deep': 1, 'both': 1, 'infinite': 1, 'nurse': 4, 'calls': 2, 'noise': 1, 'adieu': 1, 'anon': 1, 'stay': 2, 'little': 2, 'exit': 4, 'afeard': 1, 'dream': 1, 'flatteringsweet': 1, 'substantial': 1, 'reenter': 2, 'three': 1, 'indeed': 1, 'bent': 1, 'honourable': 1, 'marriage': 1, 'send': 3, 'tomorrow': 3, 'procure': 1, 'where': 2, 'time': 1, 'perform': 1, 'rite': 1, 'fortunes': 1, 'lay': 1, 'follow': 1, 'lord': 1, 'throughout': 1, 'madam': 2, 'anonbut': 1, 'meant': 1, 'beseech': 1, 'suit': 1, 'thrive': 1, 'soul': 2, 'thousand': 2, 'times': 2, 'worse': 1, 'want': 1, 'goes': 1, 'toward': 2, 'schoolboys': 1, 'books': 1, 'school': 1, 'heavy': 1, 'looks': 1, 'retiring': 1, 'hist': 2, 'falconer': 1, 'voice': 1, 'lure': 1, 'tasselgentle': 1, 'bondage': 1, 'hoarse': 2, 'aloud': 1, 'cave': 1, 'echo': 1, 'make': 1, 'repetition': 1, 'silversweet': 1, 'tongues': 1, 'softest': 1, 'music': 1, 'attending': 1, 'oclock': 1, 'hour': 1, 'nine': 1, 'fail': 1, 'years': 1, 'forgot': 1, 'why': 1, 'stand': 2, 'remember': 1, 'forget': 2, 'still': 3, 'remembering': 1, 'company': 1, 'forgetting': 1, 'home': 1, 'almost': 1, 'morning': 1, 'gone': 1, 'further': 1, 'wanton': 1, 'bird': 2, 'lets': 1, 'hop': 1, 'poor': 1, 'prisoner': 1, 'his': 3, 'twisted': 1, 'gyves': 1, 'silk': 1, 'thread': 1, 'plucks': 1, 'lovingjealous': 1, 'liberty': 1, 'much': 1, 'cherishing': 1, 'parting': 1, 'sorrow': 1, 'morrow': 1, 'sleep': 2, 'peace': 2, 'hence': 1, 'ghostly': 1, 'cell': 1, 'help': 1, 'crave': 1, 'hap': 1}\n"
     ]
    }
   ],
   "source": [
    "import string\n",
    "\n",
    "fname = input('Enter the file name: ')\n",
    "try:\n",
    "    fhand = open(fname)\n",
    "except:\n",
    "    print('File cannot be opened:', fname)\n",
    "    exit()\n",
    "\n",
    "counts = dict()\n",
    "for line in fhand:\n",
    "    line = line.rstrip()\n",
    "    line = line.translate(line.maketrans('','', string.punctuation))\n",
    "    line = line.lower()\n",
    "   \n",
    "    words = line.split()\n",
    "    for word in words:\n",
    "        counts[word] = counts.get(word,0) + 1\n",
    "\n",
    "print(counts)"
   ]
  }
 ],
 "metadata": {
  "kernelspec": {
   "display_name": "Python 3",
   "language": "python",
   "name": "python3"
  },
  "language_info": {
   "codemirror_mode": {
    "name": "ipython",
    "version": 3
   },
   "file_extension": ".py",
   "mimetype": "text/x-python",
   "name": "python",
   "nbconvert_exporter": "python",
   "pygments_lexer": "ipython3",
   "version": "3.7.4"
  }
 },
 "nbformat": 4,
 "nbformat_minor": 2
}
